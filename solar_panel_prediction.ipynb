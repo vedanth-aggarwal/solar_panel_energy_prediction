{
  "nbformat": 4,
  "nbformat_minor": 0,
  "metadata": {
    "colab": {
      "provenance": [],
      "include_colab_link": true
    },
    "kernelspec": {
      "name": "python3",
      "display_name": "Python 3"
    },
    "language_info": {
      "name": "python"
    }
  },
  "cells": [
    {
      "cell_type": "markdown",
      "metadata": {
        "id": "view-in-github",
        "colab_type": "text"
      },
      "source": [
        "<a href=\"https://colab.research.google.com/github/vedanth-aggarwal/solar_panel_energy_prediction/blob/main/solar_panel_prediction.ipynb\" target=\"_parent\"><img src=\"https://colab.research.google.com/assets/colab-badge.svg\" alt=\"Open In Colab\"/></a>"
      ]
    },
    {
      "cell_type": "code",
      "source": [
        "import pandas as pd"
      ],
      "metadata": {
        "id": "e3gHCB3_8TDm"
      },
      "execution_count": null,
      "outputs": []
    },
    {
      "cell_type": "code",
      "execution_count": null,
      "metadata": {
        "id": "UNUjQ2zemmzb"
      },
      "outputs": [],
      "source": [
        "# read in the data set\n",
        "Data = pd.read_csv('Solar_Energy.csv')\n",
        "Data.to_pickle('Solar_Energy.pkl')"
      ]
    },
    {
      "cell_type": "markdown",
      "source": [
        "***Exploratory Data Analytics***\n",
        "\n",
        "\n",
        "---\n",
        "\n",
        "\n"
      ],
      "metadata": {
        "id": "-DeDeQbj-1vs"
      }
    },
    {
      "cell_type": "code",
      "source": [
        "Data.head()"
      ],
      "metadata": {
        "colab": {
          "base_uri": "https://localhost:8080/",
          "height": 206
        },
        "id": "Z_9y7MN0xqDU",
        "outputId": "d9cdeac7-675e-4cf4-a1d1-2f5b82215e2d"
      },
      "execution_count": null,
      "outputs": [
        {
          "output_type": "execute_result",
          "data": {
            "text/plain": [
              "      Location      Date  Time  Latitude  Longitude  Altitude    YRMODAHRMI  \\\n",
              "0  Camp Murray  20171203  1145     47.11    -122.57        84  2.017120e+11   \n",
              "1  Camp Murray  20171203  1315     47.11    -122.57        84  2.017120e+11   \n",
              "2  Camp Murray  20171203  1330     47.11    -122.57        84  2.017120e+11   \n",
              "3  Camp Murray  20171204  1230     47.11    -122.57        84  2.017120e+11   \n",
              "4  Camp Murray  20171204  1415     47.11    -122.57        84  2.017120e+11   \n",
              "\n",
              "   Month  Hour  Season  Humidity  AmbientTemp  PolyPwr  Wind.Speed  \\\n",
              "0     12    11  Winter  81.71997     12.86919  2.42769           5   \n",
              "1     12    13  Winter  96.64917      9.66415  2.46273           0   \n",
              "2     12    13  Winter  93.61572     15.44983  4.46836           5   \n",
              "3     12    12  Winter  77.21558     10.36659  1.65364           5   \n",
              "4     12    14  Winter  54.80347     16.85471  6.57939           3   \n",
              "\n",
              "   Visibility  Pressure  Cloud.Ceiling  \n",
              "0        10.0    1010.6            722  \n",
              "1        10.0    1011.3             23  \n",
              "2        10.0    1011.6             32  \n",
              "3         2.0    1024.4              6  \n",
              "4         3.0    1023.7              9  "
            ],
            "text/html": [
              "\n",
              "  <div id=\"df-4a6a6d61-7f90-49e2-ab07-d7769232c175\">\n",
              "    <div class=\"colab-df-container\">\n",
              "      <div>\n",
              "<style scoped>\n",
              "    .dataframe tbody tr th:only-of-type {\n",
              "        vertical-align: middle;\n",
              "    }\n",
              "\n",
              "    .dataframe tbody tr th {\n",
              "        vertical-align: top;\n",
              "    }\n",
              "\n",
              "    .dataframe thead th {\n",
              "        text-align: right;\n",
              "    }\n",
              "</style>\n",
              "<table border=\"1\" class=\"dataframe\">\n",
              "  <thead>\n",
              "    <tr style=\"text-align: right;\">\n",
              "      <th></th>\n",
              "      <th>Location</th>\n",
              "      <th>Date</th>\n",
              "      <th>Time</th>\n",
              "      <th>Latitude</th>\n",
              "      <th>Longitude</th>\n",
              "      <th>Altitude</th>\n",
              "      <th>YRMODAHRMI</th>\n",
              "      <th>Month</th>\n",
              "      <th>Hour</th>\n",
              "      <th>Season</th>\n",
              "      <th>Humidity</th>\n",
              "      <th>AmbientTemp</th>\n",
              "      <th>PolyPwr</th>\n",
              "      <th>Wind.Speed</th>\n",
              "      <th>Visibility</th>\n",
              "      <th>Pressure</th>\n",
              "      <th>Cloud.Ceiling</th>\n",
              "    </tr>\n",
              "  </thead>\n",
              "  <tbody>\n",
              "    <tr>\n",
              "      <th>0</th>\n",
              "      <td>Camp Murray</td>\n",
              "      <td>20171203</td>\n",
              "      <td>1145</td>\n",
              "      <td>47.11</td>\n",
              "      <td>-122.57</td>\n",
              "      <td>84</td>\n",
              "      <td>2.017120e+11</td>\n",
              "      <td>12</td>\n",
              "      <td>11</td>\n",
              "      <td>Winter</td>\n",
              "      <td>81.71997</td>\n",
              "      <td>12.86919</td>\n",
              "      <td>2.42769</td>\n",
              "      <td>5</td>\n",
              "      <td>10.0</td>\n",
              "      <td>1010.6</td>\n",
              "      <td>722</td>\n",
              "    </tr>\n",
              "    <tr>\n",
              "      <th>1</th>\n",
              "      <td>Camp Murray</td>\n",
              "      <td>20171203</td>\n",
              "      <td>1315</td>\n",
              "      <td>47.11</td>\n",
              "      <td>-122.57</td>\n",
              "      <td>84</td>\n",
              "      <td>2.017120e+11</td>\n",
              "      <td>12</td>\n",
              "      <td>13</td>\n",
              "      <td>Winter</td>\n",
              "      <td>96.64917</td>\n",
              "      <td>9.66415</td>\n",
              "      <td>2.46273</td>\n",
              "      <td>0</td>\n",
              "      <td>10.0</td>\n",
              "      <td>1011.3</td>\n",
              "      <td>23</td>\n",
              "    </tr>\n",
              "    <tr>\n",
              "      <th>2</th>\n",
              "      <td>Camp Murray</td>\n",
              "      <td>20171203</td>\n",
              "      <td>1330</td>\n",
              "      <td>47.11</td>\n",
              "      <td>-122.57</td>\n",
              "      <td>84</td>\n",
              "      <td>2.017120e+11</td>\n",
              "      <td>12</td>\n",
              "      <td>13</td>\n",
              "      <td>Winter</td>\n",
              "      <td>93.61572</td>\n",
              "      <td>15.44983</td>\n",
              "      <td>4.46836</td>\n",
              "      <td>5</td>\n",
              "      <td>10.0</td>\n",
              "      <td>1011.6</td>\n",
              "      <td>32</td>\n",
              "    </tr>\n",
              "    <tr>\n",
              "      <th>3</th>\n",
              "      <td>Camp Murray</td>\n",
              "      <td>20171204</td>\n",
              "      <td>1230</td>\n",
              "      <td>47.11</td>\n",
              "      <td>-122.57</td>\n",
              "      <td>84</td>\n",
              "      <td>2.017120e+11</td>\n",
              "      <td>12</td>\n",
              "      <td>12</td>\n",
              "      <td>Winter</td>\n",
              "      <td>77.21558</td>\n",
              "      <td>10.36659</td>\n",
              "      <td>1.65364</td>\n",
              "      <td>5</td>\n",
              "      <td>2.0</td>\n",
              "      <td>1024.4</td>\n",
              "      <td>6</td>\n",
              "    </tr>\n",
              "    <tr>\n",
              "      <th>4</th>\n",
              "      <td>Camp Murray</td>\n",
              "      <td>20171204</td>\n",
              "      <td>1415</td>\n",
              "      <td>47.11</td>\n",
              "      <td>-122.57</td>\n",
              "      <td>84</td>\n",
              "      <td>2.017120e+11</td>\n",
              "      <td>12</td>\n",
              "      <td>14</td>\n",
              "      <td>Winter</td>\n",
              "      <td>54.80347</td>\n",
              "      <td>16.85471</td>\n",
              "      <td>6.57939</td>\n",
              "      <td>3</td>\n",
              "      <td>3.0</td>\n",
              "      <td>1023.7</td>\n",
              "      <td>9</td>\n",
              "    </tr>\n",
              "  </tbody>\n",
              "</table>\n",
              "</div>\n",
              "      <button class=\"colab-df-convert\" onclick=\"convertToInteractive('df-4a6a6d61-7f90-49e2-ab07-d7769232c175')\"\n",
              "              title=\"Convert this dataframe to an interactive table.\"\n",
              "              style=\"display:none;\">\n",
              "        \n",
              "  <svg xmlns=\"http://www.w3.org/2000/svg\" height=\"24px\"viewBox=\"0 0 24 24\"\n",
              "       width=\"24px\">\n",
              "    <path d=\"M0 0h24v24H0V0z\" fill=\"none\"/>\n",
              "    <path d=\"M18.56 5.44l.94 2.06.94-2.06 2.06-.94-2.06-.94-.94-2.06-.94 2.06-2.06.94zm-11 1L8.5 8.5l.94-2.06 2.06-.94-2.06-.94L8.5 2.5l-.94 2.06-2.06.94zm10 10l.94 2.06.94-2.06 2.06-.94-2.06-.94-.94-2.06-.94 2.06-2.06.94z\"/><path d=\"M17.41 7.96l-1.37-1.37c-.4-.4-.92-.59-1.43-.59-.52 0-1.04.2-1.43.59L10.3 9.45l-7.72 7.72c-.78.78-.78 2.05 0 2.83L4 21.41c.39.39.9.59 1.41.59.51 0 1.02-.2 1.41-.59l7.78-7.78 2.81-2.81c.8-.78.8-2.07 0-2.86zM5.41 20L4 18.59l7.72-7.72 1.47 1.35L5.41 20z\"/>\n",
              "  </svg>\n",
              "      </button>\n",
              "      \n",
              "  <style>\n",
              "    .colab-df-container {\n",
              "      display:flex;\n",
              "      flex-wrap:wrap;\n",
              "      gap: 12px;\n",
              "    }\n",
              "\n",
              "    .colab-df-convert {\n",
              "      background-color: #E8F0FE;\n",
              "      border: none;\n",
              "      border-radius: 50%;\n",
              "      cursor: pointer;\n",
              "      display: none;\n",
              "      fill: #1967D2;\n",
              "      height: 32px;\n",
              "      padding: 0 0 0 0;\n",
              "      width: 32px;\n",
              "    }\n",
              "\n",
              "    .colab-df-convert:hover {\n",
              "      background-color: #E2EBFA;\n",
              "      box-shadow: 0px 1px 2px rgba(60, 64, 67, 0.3), 0px 1px 3px 1px rgba(60, 64, 67, 0.15);\n",
              "      fill: #174EA6;\n",
              "    }\n",
              "\n",
              "    [theme=dark] .colab-df-convert {\n",
              "      background-color: #3B4455;\n",
              "      fill: #D2E3FC;\n",
              "    }\n",
              "\n",
              "    [theme=dark] .colab-df-convert:hover {\n",
              "      background-color: #434B5C;\n",
              "      box-shadow: 0px 1px 3px 1px rgba(0, 0, 0, 0.15);\n",
              "      filter: drop-shadow(0px 1px 2px rgba(0, 0, 0, 0.3));\n",
              "      fill: #FFFFFF;\n",
              "    }\n",
              "  </style>\n",
              "\n",
              "      <script>\n",
              "        const buttonEl =\n",
              "          document.querySelector('#df-4a6a6d61-7f90-49e2-ab07-d7769232c175 button.colab-df-convert');\n",
              "        buttonEl.style.display =\n",
              "          google.colab.kernel.accessAllowed ? 'block' : 'none';\n",
              "\n",
              "        async function convertToInteractive(key) {\n",
              "          const element = document.querySelector('#df-4a6a6d61-7f90-49e2-ab07-d7769232c175');\n",
              "          const dataTable =\n",
              "            await google.colab.kernel.invokeFunction('convertToInteractive',\n",
              "                                                     [key], {});\n",
              "          if (!dataTable) return;\n",
              "\n",
              "          const docLinkHtml = 'Like what you see? Visit the ' +\n",
              "            '<a target=\"_blank\" href=https://colab.research.google.com/notebooks/data_table.ipynb>data table notebook</a>'\n",
              "            + ' to learn more about interactive tables.';\n",
              "          element.innerHTML = '';\n",
              "          dataTable['output_type'] = 'display_data';\n",
              "          await google.colab.output.renderOutput(dataTable, element);\n",
              "          const docLink = document.createElement('div');\n",
              "          docLink.innerHTML = docLinkHtml;\n",
              "          element.appendChild(docLink);\n",
              "        }\n",
              "      </script>\n",
              "    </div>\n",
              "  </div>\n",
              "  "
            ]
          },
          "metadata": {},
          "execution_count": 68
        }
      ]
    },
    {
      "cell_type": "code",
      "source": [
        "Data.info()"
      ],
      "metadata": {
        "colab": {
          "base_uri": "https://localhost:8080/"
        },
        "id": "wqC_Y0-5RXfG",
        "outputId": "20c65336-c1fb-40f5-ba0d-fe2c5e16f667"
      },
      "execution_count": null,
      "outputs": [
        {
          "output_type": "stream",
          "name": "stdout",
          "text": [
            "<class 'pandas.core.frame.DataFrame'>\n",
            "RangeIndex: 21045 entries, 0 to 21044\n",
            "Data columns (total 17 columns):\n",
            " #   Column         Non-Null Count  Dtype  \n",
            "---  ------         --------------  -----  \n",
            " 0   Location       21045 non-null  object \n",
            " 1   Date           21045 non-null  int64  \n",
            " 2   Time           21045 non-null  int64  \n",
            " 3   Latitude       21045 non-null  float64\n",
            " 4   Longitude      21045 non-null  float64\n",
            " 5   Altitude       21045 non-null  int64  \n",
            " 6   YRMODAHRMI     21045 non-null  float64\n",
            " 7   Month          21045 non-null  int64  \n",
            " 8   Hour           21045 non-null  int64  \n",
            " 9   Season         21045 non-null  object \n",
            " 10  Humidity       21045 non-null  float64\n",
            " 11  AmbientTemp    21045 non-null  float64\n",
            " 12  PolyPwr        21045 non-null  float64\n",
            " 13  Wind.Speed     21045 non-null  int64  \n",
            " 14  Visibility     21045 non-null  float64\n",
            " 15  Pressure       21045 non-null  float64\n",
            " 16  Cloud.Ceiling  21045 non-null  int64  \n",
            "dtypes: float64(8), int64(7), object(2)\n",
            "memory usage: 2.7+ MB\n"
          ]
        }
      ]
    },
    {
      "cell_type": "code",
      "source": [
        "#Data[\"Location\"] = Data['Location'].astype(float)"
      ],
      "metadata": {
        "id": "5_Z6QLDtACVx"
      },
      "execution_count": null,
      "outputs": []
    },
    {
      "cell_type": "code",
      "source": [
        "list(set(list(Data['Location'])))"
      ],
      "metadata": {
        "colab": {
          "base_uri": "https://localhost:8080/"
        },
        "id": "5cLrmuiTa6df",
        "outputId": "89934aa0-e557-425d-db05-61c10c0170dc"
      },
      "execution_count": null,
      "outputs": [
        {
          "output_type": "execute_result",
          "data": {
            "text/plain": [
              "['Offutt',\n",
              " 'March AFB',\n",
              " 'Grissom',\n",
              " 'Malmstrom',\n",
              " 'MNANG',\n",
              " 'Travis',\n",
              " 'Camp Murray',\n",
              " 'USAFA',\n",
              " 'JDMT',\n",
              " 'Kahului',\n",
              " 'Hill Weber',\n",
              " 'Peterson']"
            ]
          },
          "metadata": {},
          "execution_count": 71
        }
      ]
    },
    {
      "cell_type": "code",
      "source": [
        "list(set(list(Data['Season'])))"
      ],
      "metadata": {
        "colab": {
          "base_uri": "https://localhost:8080/"
        },
        "id": "6eNajpf6gm-F",
        "outputId": "f8f301d0-8eaa-4bc4-e9b5-2f69ef2b7c68"
      },
      "execution_count": null,
      "outputs": [
        {
          "output_type": "execute_result",
          "data": {
            "text/plain": [
              "['Summer', 'Spring', 'Winter', 'Fall']"
            ]
          },
          "metadata": {},
          "execution_count": 72
        }
      ]
    },
    {
      "cell_type": "code",
      "source": [
        "df = {\n",
        "    'Camp Murray' : 1,\n",
        "    'Grissom' : 2,\n",
        "    'Hill Weber' : 3,\n",
        "    'JDMT' : 4,\n",
        "    'Kahului' : 5,\n",
        "    'Malmstrom' : 6,\n",
        "    'March AFB' : 7,\n",
        "    'MNANG' : 8,\n",
        "    'Offutt' : 9,\n",
        "    'Peterson' : 10,\n",
        "    'Travis' : 11,\n",
        "    'USAFA' : 12\n",
        "}\n",
        "\n",
        "df_loc = Data['Location'].map(df)\n",
        "print(df_loc)"
      ],
      "metadata": {
        "colab": {
          "base_uri": "https://localhost:8080/"
        },
        "id": "ZyQOk37nTQCV",
        "outputId": "7df89359-51ed-4132-adf1-1796c6b10fe6"
      },
      "execution_count": null,
      "outputs": [
        {
          "output_type": "stream",
          "name": "stdout",
          "text": [
            "0         1\n",
            "1         1\n",
            "2         1\n",
            "3         1\n",
            "4         1\n",
            "         ..\n",
            "21040    12\n",
            "21041    12\n",
            "21042    12\n",
            "21043    12\n",
            "21044    12\n",
            "Name: Location, Length: 21045, dtype: int64\n"
          ]
        }
      ]
    },
    {
      "cell_type": "code",
      "source": [
        "New_df= Data.copy()\n",
        "New_df['Location'] = df_loc\n",
        "print(New_df)"
      ],
      "metadata": {
        "colab": {
          "base_uri": "https://localhost:8080/"
        },
        "id": "KCpyI39pdWr2",
        "outputId": "e271d436-d2e3-407a-c227-c1c9fa74ca79"
      },
      "execution_count": null,
      "outputs": [
        {
          "output_type": "stream",
          "name": "stdout",
          "text": [
            "       Location      Date  Time  Latitude  Longitude  Altitude    YRMODAHRMI  \\\n",
            "0             1  20171203  1145     47.11    -122.57        84  2.017120e+11   \n",
            "1             1  20171203  1315     47.11    -122.57        84  2.017120e+11   \n",
            "2             1  20171203  1330     47.11    -122.57        84  2.017120e+11   \n",
            "3             1  20171204  1230     47.11    -122.57        84  2.017120e+11   \n",
            "4             1  20171204  1415     47.11    -122.57        84  2.017120e+11   \n",
            "...         ...       ...   ...       ...        ...       ...           ...   \n",
            "21040        12  20180928  1530     38.95    -104.83      1947  2.018090e+11   \n",
            "21041        12  20180929  1300     38.95    -104.83      1947  2.018090e+11   \n",
            "21042        12  20180929  1400     38.95    -104.83      1947  2.018090e+11   \n",
            "21043        12  20180929  1500     38.95    -104.83      1947  2.018090e+11   \n",
            "21044        12  20181001  1400     38.95    -104.83      1947  2.018100e+11   \n",
            "\n",
            "       Month  Hour  Season  Humidity  AmbientTemp   PolyPwr  Wind.Speed  \\\n",
            "0         12    11  Winter  81.71997     12.86919   2.42769           5   \n",
            "1         12    13  Winter  96.64917      9.66415   2.46273           0   \n",
            "2         12    13  Winter  93.61572     15.44983   4.46836           5   \n",
            "3         12    12  Winter  77.21558     10.36659   1.65364           5   \n",
            "4         12    14  Winter  54.80347     16.85471   6.57939           3   \n",
            "...      ...   ...     ...       ...          ...       ...         ...   \n",
            "21040      9    15    Fall  11.66992     43.22510   9.79611          14   \n",
            "21041      9    13    Fall  18.22510     28.98247  10.88992          13   \n",
            "21042      9    14    Fall  15.52124     33.49167   8.24479          10   \n",
            "21043      9    15    Fall   6.63452     51.62163  12.47328          10   \n",
            "21044     10    14    Fall  22.58301     32.83958   6.39732          15   \n",
            "\n",
            "       Visibility  Pressure  Cloud.Ceiling  \n",
            "0            10.0    1010.6            722  \n",
            "1            10.0    1011.3             23  \n",
            "2            10.0    1011.6             32  \n",
            "3             2.0    1024.4              6  \n",
            "4             3.0    1023.7              9  \n",
            "...           ...       ...            ...  \n",
            "21040        10.0     802.3            722  \n",
            "21041        10.0     799.2            722  \n",
            "21042        10.0     798.4            722  \n",
            "21043        10.0     797.8            722  \n",
            "21044        10.0     801.2            110  \n",
            "\n",
            "[21045 rows x 17 columns]\n"
          ]
        }
      ]
    },
    {
      "cell_type": "code",
      "source": [
        "df_season= {\n",
        "    'Fall' : 1,\n",
        "    'Spring' : 2,\n",
        "    'Summer' : 3,\n",
        "    'Winter' : 4\n",
        "}\n",
        "New_Season= Data['Season'].map(df_season)\n",
        "print(New_Season)"
      ],
      "metadata": {
        "colab": {
          "base_uri": "https://localhost:8080/"
        },
        "id": "xQ_hnQ59jtGP",
        "outputId": "5cfaebc2-6c5b-492e-ca18-ef791c1237eb"
      },
      "execution_count": null,
      "outputs": [
        {
          "output_type": "stream",
          "name": "stdout",
          "text": [
            "0        4\n",
            "1        4\n",
            "2        4\n",
            "3        4\n",
            "4        4\n",
            "        ..\n",
            "21040    1\n",
            "21041    1\n",
            "21042    1\n",
            "21043    1\n",
            "21044    1\n",
            "Name: Season, Length: 21045, dtype: int64\n"
          ]
        }
      ]
    },
    {
      "cell_type": "code",
      "source": [
        "Df = New_df.copy()\n",
        "Df['Season'] = New_Season\n",
        "print(Df)"
      ],
      "metadata": {
        "colab": {
          "base_uri": "https://localhost:8080/"
        },
        "id": "tQz0o9zlk-R8",
        "outputId": "b10f38ff-68fa-441a-863f-3330ff400a42"
      },
      "execution_count": null,
      "outputs": [
        {
          "output_type": "stream",
          "name": "stdout",
          "text": [
            "       Location      Date  Time  Latitude  Longitude  Altitude    YRMODAHRMI  \\\n",
            "0             1  20171203  1145     47.11    -122.57        84  2.017120e+11   \n",
            "1             1  20171203  1315     47.11    -122.57        84  2.017120e+11   \n",
            "2             1  20171203  1330     47.11    -122.57        84  2.017120e+11   \n",
            "3             1  20171204  1230     47.11    -122.57        84  2.017120e+11   \n",
            "4             1  20171204  1415     47.11    -122.57        84  2.017120e+11   \n",
            "...         ...       ...   ...       ...        ...       ...           ...   \n",
            "21040        12  20180928  1530     38.95    -104.83      1947  2.018090e+11   \n",
            "21041        12  20180929  1300     38.95    -104.83      1947  2.018090e+11   \n",
            "21042        12  20180929  1400     38.95    -104.83      1947  2.018090e+11   \n",
            "21043        12  20180929  1500     38.95    -104.83      1947  2.018090e+11   \n",
            "21044        12  20181001  1400     38.95    -104.83      1947  2.018100e+11   \n",
            "\n",
            "       Month  Hour  Season  Humidity  AmbientTemp   PolyPwr  Wind.Speed  \\\n",
            "0         12    11       4  81.71997     12.86919   2.42769           5   \n",
            "1         12    13       4  96.64917      9.66415   2.46273           0   \n",
            "2         12    13       4  93.61572     15.44983   4.46836           5   \n",
            "3         12    12       4  77.21558     10.36659   1.65364           5   \n",
            "4         12    14       4  54.80347     16.85471   6.57939           3   \n",
            "...      ...   ...     ...       ...          ...       ...         ...   \n",
            "21040      9    15       1  11.66992     43.22510   9.79611          14   \n",
            "21041      9    13       1  18.22510     28.98247  10.88992          13   \n",
            "21042      9    14       1  15.52124     33.49167   8.24479          10   \n",
            "21043      9    15       1   6.63452     51.62163  12.47328          10   \n",
            "21044     10    14       1  22.58301     32.83958   6.39732          15   \n",
            "\n",
            "       Visibility  Pressure  Cloud.Ceiling  \n",
            "0            10.0    1010.6            722  \n",
            "1            10.0    1011.3             23  \n",
            "2            10.0    1011.6             32  \n",
            "3             2.0    1024.4              6  \n",
            "4             3.0    1023.7              9  \n",
            "...           ...       ...            ...  \n",
            "21040        10.0     802.3            722  \n",
            "21041        10.0     799.2            722  \n",
            "21042        10.0     798.4            722  \n",
            "21043        10.0     797.8            722  \n",
            "21044        10.0     801.2            110  \n",
            "\n",
            "[21045 rows x 17 columns]\n"
          ]
        }
      ]
    },
    {
      "cell_type": "code",
      "source": [
        "Df.info()"
      ],
      "metadata": {
        "colab": {
          "base_uri": "https://localhost:8080/"
        },
        "id": "rLnAYNBnRTIy",
        "outputId": "052a87bc-9c43-48c5-87f4-927ec113dc04"
      },
      "execution_count": null,
      "outputs": [
        {
          "output_type": "stream",
          "name": "stdout",
          "text": [
            "<class 'pandas.core.frame.DataFrame'>\n",
            "RangeIndex: 21045 entries, 0 to 21044\n",
            "Data columns (total 17 columns):\n",
            " #   Column         Non-Null Count  Dtype  \n",
            "---  ------         --------------  -----  \n",
            " 0   Location       21045 non-null  int64  \n",
            " 1   Date           21045 non-null  int64  \n",
            " 2   Time           21045 non-null  int64  \n",
            " 3   Latitude       21045 non-null  float64\n",
            " 4   Longitude      21045 non-null  float64\n",
            " 5   Altitude       21045 non-null  int64  \n",
            " 6   YRMODAHRMI     21045 non-null  float64\n",
            " 7   Month          21045 non-null  int64  \n",
            " 8   Hour           21045 non-null  int64  \n",
            " 9   Season         21045 non-null  int64  \n",
            " 10  Humidity       21045 non-null  float64\n",
            " 11  AmbientTemp    21045 non-null  float64\n",
            " 12  PolyPwr        21045 non-null  float64\n",
            " 13  Wind.Speed     21045 non-null  int64  \n",
            " 14  Visibility     21045 non-null  float64\n",
            " 15  Pressure       21045 non-null  float64\n",
            " 16  Cloud.Ceiling  21045 non-null  int64  \n",
            "dtypes: float64(8), int64(9)\n",
            "memory usage: 2.7 MB\n"
          ]
        }
      ]
    },
    {
      "cell_type": "code",
      "source": [
        "Df[\"Location\"] = Df['Location'].astype(float)\n",
        "Df[\"Season\"] = Df['Season'].astype(float)\n",
        "Df[\"Date\"] = Df['Date'].astype(float)\n",
        "Df[\"Time\"] = Df['Time'].astype(float)\n",
        "Df[\"Altitude\"] = Df['Altitude'].astype(float)\n",
        "Df[\"Month\"] = Df['Month'].astype(float)\n",
        "Df[\"Hour\"] = Df['Hour'].astype(float)\n",
        "Df[\"Wind.Speed\"] = Df['Wind.Speed'].astype(float)\n",
        "Df[\"Cloud.Ceiling\"] = Df['Cloud.Ceiling'].astype(float)\n",
        "Df.dropna(inplace=True)\n",
        "Df.info(verbose=True)"
      ],
      "metadata": {
        "colab": {
          "base_uri": "https://localhost:8080/"
        },
        "id": "fwOjPPUq-1uu",
        "outputId": "25208302-a0c6-4dd5-c26b-2061fcc895bd"
      },
      "execution_count": null,
      "outputs": [
        {
          "output_type": "stream",
          "name": "stdout",
          "text": [
            "<class 'pandas.core.frame.DataFrame'>\n",
            "Int64Index: 21045 entries, 0 to 21044\n",
            "Data columns (total 17 columns):\n",
            " #   Column         Non-Null Count  Dtype  \n",
            "---  ------         --------------  -----  \n",
            " 0   Location       21045 non-null  float64\n",
            " 1   Date           21045 non-null  float64\n",
            " 2   Time           21045 non-null  float64\n",
            " 3   Latitude       21045 non-null  float64\n",
            " 4   Longitude      21045 non-null  float64\n",
            " 5   Altitude       21045 non-null  float64\n",
            " 6   YRMODAHRMI     21045 non-null  float64\n",
            " 7   Month          21045 non-null  float64\n",
            " 8   Hour           21045 non-null  float64\n",
            " 9   Season         21045 non-null  float64\n",
            " 10  Humidity       21045 non-null  float64\n",
            " 11  AmbientTemp    21045 non-null  float64\n",
            " 12  PolyPwr        21045 non-null  float64\n",
            " 13  Wind.Speed     21045 non-null  float64\n",
            " 14  Visibility     21045 non-null  float64\n",
            " 15  Pressure       21045 non-null  float64\n",
            " 16  Cloud.Ceiling  21045 non-null  float64\n",
            "dtypes: float64(17)\n",
            "memory usage: 2.9 MB\n"
          ]
        }
      ]
    },
    {
      "cell_type": "code",
      "source": [
        "import seaborn as sns\n",
        "import matplotlib.pyplot as plt\n",
        "\n",
        "# Select the columns to be checked for outliers\n",
        "cols = ['Location', 'Date', 'Time', 'Latitude', 'Longitude','Altitude', 'YRMODAHRMI', 'Month', 'Hour','Season', 'Humidity', 'AmbientTemp', 'PolyPwr', 'Wind.Speed', 'Visibility', 'Pressure', 'Cloud.Ceiling']\n",
        "\n",
        "# Create a boxplot for each column\n",
        "for col in cols:\n",
        "    sns.boxplot(x=Df[col])\n",
        "    plt.title(col)\n",
        "    plt.show()"
      ],
      "metadata": {
        "colab": {
          "base_uri": "https://localhost:8080/",
          "height": 1000
        },
        "id": "KJZWBZHXiXgC",
        "outputId": "06669f10-656c-4072-fd38-30f466b7e818"
      },
      "execution_count": null,
      "outputs": [
        {
          "output_type": "display_data",
          "data": {
            "text/plain": [
              "<Figure size 432x288 with 1 Axes>"
            ],
            "image/png": "[encoded data removed]"
          },
          "metadata": {
            "needs_background": "light"
          }
        },
        {
          "output_type": "display_data",
          "data": {
            "text/plain": [
              "<Figure size 432x288 with 1 Axes>"
            ],
            "image/png": "[encoded data removed]"
          },
          "metadata": {
            "needs_background": "light"
          }
        },
        {
          "output_type": "display_data",
          "data": {
            "text/plain": [
              "<Figure size 432x288 with 1 Axes>"
            ],
            "image/png": "[encoded data removed]"
          },
          "metadata": {
            "needs_background": "light"
          }
        },
        {
          "output_type": "display_data",
          "data": {
            "text/plain": [
              "<Figure size 432x288 with 1 Axes>"
            ],
            "image/png": "[encoded data removed]"
          },
          "metadata": {
            "needs_background": "light"
          }
        },
        {
          "output_type": "display_data",
          "data": {
            "text/plain": [
              "<Figure size 432x288 with 1 Axes>"
            ],
            "image/png": "[encoded data removed]"
          },
          "metadata": {
            "needs_background": "light"
          }
        },
        {
          "output_type": "display_data",
          "data": {
            "text/plain": [
              "<Figure size 432x288 with 1 Axes>"
            ],
            "image/png": "[encoded data removed]"
          },
          "metadata": {
            "needs_background": "light"
          }
        },
        {
          "output_type": "display_data",
          "data": {
            "text/plain": [
              "<Figure size 432x288 with 1 Axes>"
            ],
            "image/png": "[encoded data removed]"
          },
          "metadata": {
            "needs_background": "light"
          }
        },
        {
          "output_type": "display_data",
          "data": {
            "text/plain": [
              "<Figure size 432x288 with 1 Axes>"
            ],
            "image/png": "[encoded data removed]"
          },
          "metadata": {
            "needs_background": "light"
          }
        },
        {
          "output_type": "display_data",
          "data": {
            "text/plain": [
              "<Figure size 432x288 with 1 Axes>"
            ],
            "image/png": "[encoded data removed]"
          },
          "metadata": {
            "needs_background": "light"
          }
        },
        {
          "output_type": "display_data",
          "data": {
            "text/plain": [
              "<Figure size 432x288 with 1 Axes>"
            ],
            "image/png": "[encoded data removed]"
          },
          "metadata": {
            "needs_background": "light"
          }
        },
        {
          "output_type": "display_data",
          "data": {
            "text/plain": [
              "<Figure size 432x288 with 1 Axes>"
            ],
            "image/png": "[encoded data removed]"
          },
          "metadata": {
            "needs_background": "light"
          }
        },
        {
          "output_type": "display_data",
          "data": {
            "text/plain": [
              "<Figure size 432x288 with 1 Axes>"
            ],
            "image/png": "[encoded data removed]"
          },
          "metadata": {
            "needs_background": "light"
          }
        },
        {
          "output_type": "display_data",
          "data": {
            "text/plain": [
              "<Figure size 432x288 with 1 Axes>"
            ],
            "image/png": "[encoded data removed]"
          },
          "metadata": {
            "needs_background": "light"
          }
        },
        {
          "output_type": "display_data",
          "data": {
            "text/plain": [
              "<Figure size 432x288 with 1 Axes>"
            ],
            "image/png": "[encoded data removed]"
          },
          "metadata": {
            "needs_background": "light"
          }
        },
        {
          "output_type": "display_data",
          "data": {
            "text/plain": [
              "<Figure size 432x288 with 1 Axes>"
            ],
            "image/png": "[encoded data removed]"
          },
          "metadata": {
            "needs_background": "light"
          }
        },
        {
          "output_type": "display_data",
          "data": {
            "text/plain": [
              "<Figure size 432x288 with 1 Axes>"
            ],
            "image/png": "[encoded data removed]"
          },
          "metadata": {
            "needs_background": "light"
          }
        },
        {
          "output_type": "display_data",
          "data": {
            "text/plain": [
              "<Figure size 432x288 with 1 Axes>"
            ],
            "image/png": "[encoded data removed]"
          },
          "metadata": {
            "needs_background": "light"
          }
        }
      ]
    },
    {
      "cell_type": "code",
      "source": [
        "# Create a boxplot for selective columns:\n",
        "cols_to_plot = ['Latitude', 'Longitude', 'AmbientTemp','Wind.Speed','Visibility']\n",
        "Df[cols_to_plot].boxplot()\n",
        "plt.show()"
      ],
      "metadata": {
        "colab": {
          "base_uri": "https://localhost:8080/",
          "height": 265
        },
        "id": "XtEbtEz7FKBe",
        "outputId": "4648771d-cc93-44ed-95b0-8060e7a735ec"
      },
      "execution_count": null,
      "outputs": [
        {
          "output_type": "display_data",
          "data": {
            "text/plain": [
              "<Figure size 432x288 with 1 Axes>"
            ],
            "image/png": "[encoded data removed]"
          },
          "metadata": {
            "needs_background": "light"
          }
        }
      ]
    },
    {
      "cell_type": "code",
      "source": [
        "Df.shape"
      ],
      "metadata": {
        "colab": {
          "base_uri": "https://localhost:8080/"
        },
        "id": "YYcF0qN1Xtkb",
        "outputId": "fa956d58-7faa-4312-8057-34f591b9274f"
      },
      "execution_count": null,
      "outputs": [
        {
          "output_type": "execute_result",
          "data": {
            "text/plain": [
              "(21045, 17)"
            ]
          },
          "metadata": {},
          "execution_count": 81
        }
      ]
    },
    {
      "cell_type": "code",
      "source": [
        "Q1 = Df[['AmbientTemp', 'Wind.Speed', 'Visibility']].quantile(0.25)\n",
        "Q3 = Df[['AmbientTemp', 'Wind.Speed', 'Visibility']].quantile(0.75)\n",
        "IQR = Q3 - Q1\n",
        "\n",
        "Df = Df[~((Df[['AmbientTemp', 'Wind.Speed', 'Visibility']] < (Q1 - 1.5 * IQR)) | (Df[['AmbientTemp', 'Wind.Speed', 'Visibility']] > (Q3 + 1.5 * IQR))).any(axis=1)]"
      ],
      "metadata": {
        "id": "eN0Hll6ckqR1"
      },
      "execution_count": null,
      "outputs": []
    },
    {
      "cell_type": "code",
      "source": [
        "print(\"Number of Rows:\", Df.shape[0])\n",
        "print(\"Number of Columns:\", Df.shape[1])"
      ],
      "metadata": {
        "colab": {
          "base_uri": "https://localhost:8080/"
        },
        "id": "cdIxPDXznOYs",
        "outputId": "ba5d2041-9514-4e26-9f7f-4c215361ba36"
      },
      "execution_count": null,
      "outputs": [
        {
          "output_type": "stream",
          "name": "stdout",
          "text": [
            "Number of Rows: 19290\n",
            "Number of Columns: 17\n"
          ]
        }
      ]
    },
    {
      "cell_type": "code",
      "source": [
        "continuous_features = []\n",
        "categorical_features = []\n",
        "\n",
        "for column in Df.columns:\n",
        "    if Df[column].dtype == 'float64' or Df[column].dtype == 'int64':\n",
        "        continuous_features.append(column)\n",
        "    else:\n",
        "        categorical_features.append(column)\n",
        "\n",
        "print(\"Continuous features:\", continuous_features)\n",
        "print(\"Categorical features:\", categorical_features)"
      ],
      "metadata": {
        "colab": {
          "base_uri": "https://localhost:8080/"
        },
        "id": "g5DSh6XGnN_P",
        "outputId": "deabcfb4-4c84-45ce-f5ef-d6fd7506ff9b"
      },
      "execution_count": null,
      "outputs": [
        {
          "output_type": "stream",
          "name": "stdout",
          "text": [
            "Continuous features: ['Location', 'Date', 'Time', 'Latitude', 'Longitude', 'Altitude', 'YRMODAHRMI', 'Month', 'Hour', 'Season', 'Humidity', 'AmbientTemp', 'PolyPwr', 'Wind.Speed', 'Visibility', 'Pressure', 'Cloud.Ceiling']\n",
            "Categorical features: []\n"
          ]
        }
      ]
    },
    {
      "cell_type": "code",
      "source": [
        "# Splitting the dataset into training and testing set by 80-20 ratio:\n",
        "from sklearn.model_selection import train_test_split\n",
        "\n",
        "X = Df.drop('PolyPwr', axis=1)\n",
        "y = Df['PolyPwr']\n",
        "\n",
        "X_train, X_test, y_train, y_test = train_test_split(X, y, test_size=0.2, random_state=0)"
      ],
      "metadata": {
        "id": "HIGMH9CGbD8Y"
      },
      "execution_count": null,
      "outputs": []
    },
    {
      "cell_type": "code",
      "source": [
        "print(\"Shape of X_train:\", X_train.shape)\n",
        "print(\"Shape of X_test:\", X_test.shape)"
      ],
      "metadata": {
        "colab": {
          "base_uri": "https://localhost:8080/"
        },
        "id": "Z1MLO_gfrH8S",
        "outputId": "56d89321-8095-42e0-e5de-36c14a63286d"
      },
      "execution_count": null,
      "outputs": [
        {
          "output_type": "stream",
          "name": "stdout",
          "text": [
            "Shape of X_train: (15432, 16)\n",
            "Shape of X_test: (3858, 16)\n"
          ]
        }
      ]
    },
    {
      "cell_type": "code",
      "source": [
        "# Feedforward Neural network model\n",
        "\n",
        "import tensorflow\n",
        "from keras.models import Sequential\n",
        "from keras.layers import Dense, Dropout\n",
        "from keras.optimizers import Adam\n",
        "from sklearn.model_selection import train_test_split\n",
        "from sklearn.preprocessing import StandardScaler\n",
        "from tensorflow.keras.models import Sequential\n",
        "from tensorflow.keras.layers import Dense\n",
        "from sklearn.inspection import permutation_importance\n",
        "from sklearn.metrics import make_scorer, mean_squared_error\n",
        "from keras.wrappers.scikit_learn import KerasRegressor\n",
        "\n",
        "# normalize the data\n",
        "scaler = StandardScaler()\n",
        "X_train = scaler.fit_transform(X_train)\n",
        "X_test = scaler.transform(X_test)\n",
        "\n",
        "# Define the model architecture\n",
        "ffnn_model = Sequential()\n",
        "ffnn_model.add(Dense(64,input_dim=X_train.shape[1], activation='relu', input_shape=(16,)))\n",
        "ffnn_model.add(Dense(32, activation='relu'))\n",
        "ffnn_model.add(Dense(16, activation='relu'))\n",
        "ffnn_model.add(Dropout(0.2))\n",
        "ffnn_model.add(Dense(1))\n",
        "\n",
        "# Compile the model\n",
        "ffnn_model.compile(loss='mean_squared_error', optimizer='adam')\n",
        "\n",
        "# Train the model\n",
        "ffnn_model.fit(X_train, y_train, epochs=100, batch_size=32, verbose=1)\n",
        "\n",
        "# evaluate the model on the testing set\n",
        "loss = ffnn_model.evaluate(X_test, y_test, verbose=1)\n",
        "print(f'Test loss: {loss:.3f}')\n",
        "\n",
        "# use the model to make predictions\n",
        "y_pred = ffnn_model.predict(X_test)\n",
        "mse_ffnn = mean_squared_error(y_test, y_pred)\n",
        "\n",
        "# print the predictions\n",
        "print(y_pred)\n",
        "print(\"Feedforward Neural Network Model:\")\n",
        "print(f\"MSE: {mse_ffnn:.4f}\")\n",
        "\n",
        "# Calculate feature importance\n",
        "scoring_function = make_scorer(mean_squared_error)\n",
        "result = permutation_importance(ffnn_model, X_test, y_test, n_repeats=10, random_state=0, scoring=scoring_function)\n",
        "\n",
        "# Print feature importance scores\n",
        "importance = result.importances_mean\n",
        "sorted_idx = importance.argsort()\n",
        "for i in sorted_idx:\n",
        "    print(f\"{X.columns[i]:<15}: {importance[i]:.3f}\")"
      ],
      "metadata": {
        "colab": {
          "base_uri": "https://localhost:8080/"
        },
        "id": "8Nzt75NSpxTE",
        "outputId": "e8044a75-795b-4cd0-85d3-4677be3f9b0c"
      },
      "execution_count": null,
      "outputs": [
        {
          "output_type": "stream",
          "name": "stdout",
          "text": [
            "Epoch 1/100\n",
            "483/483 [==============================] - 2s 2ms/step - loss: 59.1948\n",
            "Epoch 2/100\n",
            "483/483 [==============================] - 1s 2ms/step - loss: 30.6487\n",
            "Epoch 3/100\n",
            "483/483 [==============================] - 1s 2ms/step - loss: 27.7550\n",
            "Epoch 4/100\n",
            "483/483 [==============================] - 1s 2ms/step - loss: 27.0325\n",
            "Epoch 5/100\n",
            "483/483 [==============================] - 1s 2ms/step - loss: 26.2069\n",
            "Epoch 6/100\n",
            "483/483 [==============================] - 1s 2ms/step - loss: 25.4482\n",
            "Epoch 7/100\n",
            "483/483 [==============================] - 1s 2ms/step - loss: 25.0005\n",
            "Epoch 8/100\n",
            "483/483 [==============================] - 1s 2ms/step - loss: 25.3726\n",
            "Epoch 9/100\n",
            "483/483 [==============================] - 1s 2ms/step - loss: 24.2688\n",
            "Epoch 10/100\n",
            "483/483 [==============================] - 1s 2ms/step - loss: 24.1383\n",
            "Epoch 11/100\n",
            "483/483 [==============================] - 1s 3ms/step - loss: 23.7431\n",
            "Epoch 12/100\n",
            "483/483 [==============================] - 1s 3ms/step - loss: 23.6173\n",
            "Epoch 13/100\n",
            "483/483 [==============================] - 1s 2ms/step - loss: 23.4423\n",
            "Epoch 14/100\n",
            "483/483 [==============================] - 1s 2ms/step - loss: 23.3190\n",
            "Epoch 15/100\n",
            "483/483 [==============================] - 1s 2ms/step - loss: 22.9714\n",
            "Epoch 16/100\n",
            "483/483 [==============================] - 1s 2ms/step - loss: 22.6470\n",
            "Epoch 17/100\n",
            "483/483 [==============================] - 1s 2ms/step - loss: 22.3167\n",
            "Epoch 18/100\n",
            "483/483 [==============================] - 1s 2ms/step - loss: 22.3495\n",
            "Epoch 19/100\n",
            "483/483 [==============================] - 1s 2ms/step - loss: 21.8543\n",
            "Epoch 20/100\n",
            "483/483 [==============================] - 1s 2ms/step - loss: 21.6021\n",
            "Epoch 21/100\n",
            "483/483 [==============================] - 1s 2ms/step - loss: 21.5310\n",
            "Epoch 22/100\n",
            "483/483 [==============================] - 1s 2ms/step - loss: 21.2003\n",
            "Epoch 23/100\n",
            "483/483 [==============================] - 1s 3ms/step - loss: 21.5882\n",
            "Epoch 24/100\n",
            "483/483 [==============================] - 1s 3ms/step - loss: 20.9229\n",
            "Epoch 25/100\n",
            "483/483 [==============================] - 1s 2ms/step - loss: 21.0511\n",
            "Epoch 26/100\n",
            "483/483 [==============================] - 1s 2ms/step - loss: 20.7799\n",
            "Epoch 27/100\n",
            "483/483 [==============================] - 1s 2ms/step - loss: 20.7336\n",
            "Epoch 28/100\n",
            "483/483 [==============================] - 1s 2ms/step - loss: 20.8157\n",
            "Epoch 29/100\n",
            "483/483 [==============================] - 1s 2ms/step - loss: 20.5823\n",
            "Epoch 30/100\n",
            "483/483 [==============================] - 1s 2ms/step - loss: 20.3561\n",
            "Epoch 31/100\n",
            "483/483 [==============================] - 1s 2ms/step - loss: 19.9088\n",
            "Epoch 32/100\n",
            "483/483 [==============================] - 1s 2ms/step - loss: 19.7240\n",
            "Epoch 33/100\n",
            "483/483 [==============================] - 1s 2ms/step - loss: 19.6367\n",
            "Epoch 34/100\n",
            "483/483 [==============================] - 1s 2ms/step - loss: 19.5058\n",
            "Epoch 35/100\n",
            "483/483 [==============================] - 1s 2ms/step - loss: 19.5945\n",
            "Epoch 36/100\n",
            "483/483 [==============================] - 1s 3ms/step - loss: 19.3564\n",
            "Epoch 37/100\n",
            "483/483 [==============================] - 1s 3ms/step - loss: 19.4530\n",
            "Epoch 38/100\n",
            "483/483 [==============================] - 1s 2ms/step - loss: 19.1187\n",
            "Epoch 39/100\n",
            "483/483 [==============================] - 1s 2ms/step - loss: 19.0593\n",
            "Epoch 40/100\n",
            "483/483 [==============================] - 1s 2ms/step - loss: 19.0015\n",
            "Epoch 41/100\n",
            "483/483 [==============================] - 1s 2ms/step - loss: 18.8849\n",
            "Epoch 42/100\n",
            "483/483 [==============================] - 1s 2ms/step - loss: 18.7512\n",
            "Epoch 43/100\n",
            "483/483 [==============================] - 1s 2ms/step - loss: 18.7494\n",
            "Epoch 44/100\n",
            "483/483 [==============================] - 1s 2ms/step - loss: 18.6383\n",
            "Epoch 45/100\n",
            "483/483 [==============================] - 1s 2ms/step - loss: 18.4739\n",
            "Epoch 46/100\n",
            "483/483 [==============================] - 1s 2ms/step - loss: 18.6694\n",
            "Epoch 47/100\n",
            "483/483 [==============================] - 1s 2ms/step - loss: 18.3415\n",
            "Epoch 48/100\n",
            "483/483 [==============================] - 1s 2ms/step - loss: 18.2983\n",
            "Epoch 49/100\n",
            "483/483 [==============================] - 2s 3ms/step - loss: 18.2576\n",
            "Epoch 50/100\n",
            "483/483 [==============================] - 1s 3ms/step - loss: 17.8911\n",
            "Epoch 51/100\n",
            "483/483 [==============================] - 1s 2ms/step - loss: 18.2888\n",
            "Epoch 52/100\n",
            "483/483 [==============================] - 1s 2ms/step - loss: 18.0236\n",
            "Epoch 53/100\n",
            "483/483 [==============================] - 1s 2ms/step - loss: 18.0100\n",
            "Epoch 54/100\n",
            "483/483 [==============================] - 1s 2ms/step - loss: 17.7945\n",
            "Epoch 55/100\n",
            "483/483 [==============================] - 1s 2ms/step - loss: 17.8451\n",
            "Epoch 56/100\n",
            "483/483 [==============================] - 1s 2ms/step - loss: 17.7368\n",
            "Epoch 57/100\n",
            "483/483 [==============================] - 1s 2ms/step - loss: 17.6229\n",
            "Epoch 58/100\n",
            "483/483 [==============================] - 1s 2ms/step - loss: 17.6275\n",
            "Epoch 59/100\n",
            "483/483 [==============================] - 1s 2ms/step - loss: 17.7559\n",
            "Epoch 60/100\n",
            "483/483 [==============================] - 1s 2ms/step - loss: 17.5611\n",
            "Epoch 61/100\n",
            "483/483 [==============================] - 1s 2ms/step - loss: 17.3785\n",
            "Epoch 62/100\n",
            "483/483 [==============================] - 2s 3ms/step - loss: 17.4232\n",
            "Epoch 63/100\n",
            "483/483 [==============================] - 1s 3ms/step - loss: 17.4433\n",
            "Epoch 64/100\n",
            "483/483 [==============================] - 1s 2ms/step - loss: 17.3918\n",
            "Epoch 65/100\n",
            "483/483 [==============================] - 1s 2ms/step - loss: 17.1688\n",
            "Epoch 66/100\n",
            "483/483 [==============================] - 1s 2ms/step - loss: 17.1977\n",
            "Epoch 67/100\n",
            "483/483 [==============================] - 1s 2ms/step - loss: 17.1203\n",
            "Epoch 68/100\n",
            "483/483 [==============================] - 1s 2ms/step - loss: 16.8502\n",
            "Epoch 69/100\n",
            "483/483 [==============================] - 1s 2ms/step - loss: 16.9825\n",
            "Epoch 70/100\n",
            "483/483 [==============================] - 1s 2ms/step - loss: 16.8347\n",
            "Epoch 71/100\n",
            "483/483 [==============================] - 1s 2ms/step - loss: 16.9545\n",
            "Epoch 72/100\n",
            "483/483 [==============================] - 1s 2ms/step - loss: 16.9283\n",
            "Epoch 73/100\n",
            "483/483 [==============================] - 1s 2ms/step - loss: 16.7246\n",
            "Epoch 74/100\n",
            "483/483 [==============================] - 1s 3ms/step - loss: 16.5798\n",
            "Epoch 75/100\n",
            "483/483 [==============================] - 1s 3ms/step - loss: 16.7403\n",
            "Epoch 76/100\n",
            "483/483 [==============================] - 1s 2ms/step - loss: 16.6975\n",
            "Epoch 77/100\n",
            "483/483 [==============================] - 1s 2ms/step - loss: 16.7885\n",
            "Epoch 78/100\n",
            "483/483 [==============================] - 1s 2ms/step - loss: 16.7313\n",
            "Epoch 79/100\n",
            "483/483 [==============================] - 1s 2ms/step - loss: 16.5992\n",
            "Epoch 80/100\n",
            "483/483 [==============================] - 1s 2ms/step - loss: 16.6356\n",
            "Epoch 81/100\n",
            "483/483 [==============================] - 1s 2ms/step - loss: 16.4515\n",
            "Epoch 82/100\n",
            "483/483 [==============================] - 1s 2ms/step - loss: 16.5816\n",
            "Epoch 83/100\n",
            "483/483 [==============================] - 1s 2ms/step - loss: 16.4196\n",
            "Epoch 84/100\n",
            "483/483 [==============================] - 1s 2ms/step - loss: 16.6234\n",
            "Epoch 85/100\n",
            "483/483 [==============================] - 1s 2ms/step - loss: 16.5231\n",
            "Epoch 86/100\n",
            "483/483 [==============================] - 1s 2ms/step - loss: 16.3928\n",
            "Epoch 87/100\n",
            "483/483 [==============================] - 1s 3ms/step - loss: 16.2887\n",
            "Epoch 88/100\n",
            "483/483 [==============================] - 1s 3ms/step - loss: 16.2098\n",
            "Epoch 89/100\n",
            "483/483 [==============================] - 1s 2ms/step - loss: 16.3360\n",
            "Epoch 90/100\n",
            "483/483 [==============================] - 1s 2ms/step - loss: 16.2148\n",
            "Epoch 91/100\n",
            "483/483 [==============================] - 1s 2ms/step - loss: 16.2680\n",
            "Epoch 92/100\n",
            "483/483 [==============================] - 1s 2ms/step - loss: 16.2255\n",
            "Epoch 93/100\n",
            "483/483 [==============================] - 1s 2ms/step - loss: 16.1564\n",
            "Epoch 94/100\n",
            "483/483 [==============================] - 1s 2ms/step - loss: 16.1435\n",
            "Epoch 95/100\n",
            "483/483 [==============================] - 1s 2ms/step - loss: 16.1891\n",
            "Epoch 96/100\n",
            "483/483 [==============================] - 1s 2ms/step - loss: 16.3346\n",
            "Epoch 97/100\n",
            "483/483 [==============================] - 1s 2ms/step - loss: 16.0804\n",
            "Epoch 98/100\n",
            "483/483 [==============================] - 1s 2ms/step - loss: 16.1469\n",
            "Epoch 99/100\n",
            "483/483 [==============================] - 1s 3ms/step - loss: 16.0813\n",
            "Epoch 100/100\n",
            "483/483 [==============================] - 1s 3ms/step - loss: 15.9009\n",
            "121/121 [==============================] - 0s 2ms/step - loss: 18.5292\n",
            "Test loss: 18.529\n",
            "121/121 [==============================] - 0s 1ms/step\n",
            "[[ 6.0948  ]\n",
            " [12.690771]\n",
            " [17.179424]\n",
            " ...\n",
            " [23.506401]\n",
            " [18.698141]\n",
            " [14.839539]]\n",
            "Feedforward Neural Network Model:\n",
            "MSE: 18.5292\n",
            "121/121 [==============================] - 0s 1ms/step\n",
            "121/121 [==============================] - 0s 1ms/step\n",
            "121/121 [==============================] - 0s 2ms/step\n",
            "121/121 [==============================] - 0s 1ms/step\n",
            "121/121 [==============================] - 0s 1ms/step\n",
            "121/121 [==============================] - 0s 1ms/step\n",
            "121/121 [==============================] - 0s 2ms/step\n",
            "121/121 [==============================] - 0s 1ms/step\n",
            "121/121 [==============================] - 0s 1ms/step\n",
            "121/121 [==============================] - 0s 1ms/step\n",
            "121/121 [==============================] - 0s 1ms/step\n",
            "121/121 [==============================] - 0s 1ms/step\n",
            "121/121 [==============================] - 0s 1ms/step\n",
            "121/121 [==============================] - 0s 1ms/step\n",
            "121/121 [==============================] - 0s 1ms/step\n",
            "121/121 [==============================] - 0s 2ms/step\n",
            "121/121 [==============================] - 0s 1ms/step\n",
            "121/121 [==============================] - 0s 1ms/step\n",
            "121/121 [==============================] - 0s 1ms/step\n",
            "121/121 [==============================] - 0s 1ms/step\n",
            "121/121 [==============================] - 0s 1ms/step\n",
            "121/121 [==============================] - 0s 1ms/step\n",
            "121/121 [==============================] - 0s 1ms/step\n",
            "121/121 [==============================] - 0s 1ms/step\n",
            "121/121 [==============================] - 0s 1ms/step\n",
            "121/121 [==============================] - 0s 1ms/step\n",
            "121/121 [==============================] - 0s 1ms/step\n",
            "121/121 [==============================] - 0s 1ms/step\n",
            "121/121 [==============================] - 0s 1ms/step\n",
            "121/121 [==============================] - 0s 1ms/step\n",
            "121/121 [==============================] - 0s 2ms/step\n",
            "121/121 [==============================] - 0s 2ms/step\n",
            "121/121 [==============================] - 0s 2ms/step\n",
            "121/121 [==============================] - 0s 2ms/step\n",
            "121/121 [==============================] - 0s 2ms/step\n",
            "121/121 [==============================] - 0s 1ms/step\n",
            "121/121 [==============================] - 0s 1ms/step\n",
            "121/121 [==============================] - 0s 1ms/step\n",
            "121/121 [==============================] - 0s 1ms/step\n",
            "121/121 [==============================] - 0s 1ms/step\n",
            "121/121 [==============================] - 0s 1ms/step\n",
            "121/121 [==============================] - 0s 1ms/step\n",
            "121/121 [==============================] - 0s 1ms/step\n",
            "121/121 [==============================] - 0s 1ms/step\n",
            "121/121 [==============================] - 0s 1ms/step\n",
            "121/121 [==============================] - 0s 1ms/step\n",
            "121/121 [==============================] - 0s 1ms/step\n",
            "121/121 [==============================] - 0s 1ms/step\n",
            "121/121 [==============================] - 0s 1ms/step\n",
            "121/121 [==============================] - 0s 1ms/step\n",
            "121/121 [==============================] - 0s 1ms/step\n",
            "121/121 [==============================] - 0s 1ms/step\n",
            "121/121 [==============================] - 0s 1ms/step\n",
            "121/121 [==============================] - 0s 2ms/step\n",
            "121/121 [==============================] - 0s 1ms/step\n",
            "121/121 [==============================] - 0s 1ms/step\n",
            "121/121 [==============================] - 0s 1ms/step\n",
            "121/121 [==============================] - 0s 1ms/step\n",
            "121/121 [==============================] - 0s 1ms/step\n",
            "121/121 [==============================] - 0s 1ms/step\n",
            "121/121 [==============================] - 0s 1ms/step\n",
            "121/121 [==============================] - 0s 1ms/step\n",
            "121/121 [==============================] - 0s 1ms/step\n",
            "121/121 [==============================] - 0s 1ms/step\n",
            "121/121 [==============================] - 0s 1ms/step\n",
            "121/121 [==============================] - 0s 2ms/step\n",
            "121/121 [==============================] - 0s 2ms/step\n",
            "121/121 [==============================] - 0s 2ms/step\n",
            "121/121 [==============================] - 0s 2ms/step\n",
            "121/121 [==============================] - 0s 1ms/step\n",
            "121/121 [==============================] - 0s 1ms/step\n",
            "121/121 [==============================] - 0s 2ms/step\n",
            "121/121 [==============================] - 0s 1ms/step\n",
            "121/121 [==============================] - 0s 1ms/step\n",
            "121/121 [==============================] - 0s 1ms/step\n",
            "121/121 [==============================] - 0s 1ms/step\n",
            "121/121 [==============================] - 0s 1ms/step\n",
            "121/121 [==============================] - 0s 1ms/step\n",
            "121/121 [==============================] - 0s 1ms/step\n",
            "121/121 [==============================] - 0s 1ms/step\n",
            "121/121 [==============================] - 0s 1ms/step\n",
            "121/121 [==============================] - 0s 1ms/step\n",
            "121/121 [==============================] - 0s 1ms/step\n",
            "121/121 [==============================] - 0s 2ms/step\n",
            "121/121 [==============================] - 0s 1ms/step\n",
            "121/121 [==============================] - 0s 1ms/step\n",
            "121/121 [==============================] - 0s 1ms/step\n",
            "121/121 [==============================] - 0s 1ms/step\n",
            "121/121 [==============================] - 0s 1ms/step\n",
            "121/121 [==============================] - 0s 1ms/step\n",
            "121/121 [==============================] - 0s 1ms/step\n",
            "121/121 [==============================] - 0s 2ms/step\n",
            "121/121 [==============================] - 0s 1ms/step\n",
            "121/121 [==============================] - 0s 1ms/step\n",
            "121/121 [==============================] - 0s 1ms/step\n",
            "121/121 [==============================] - 0s 1ms/step\n",
            "121/121 [==============================] - 0s 1ms/step\n",
            "121/121 [==============================] - 0s 2ms/step\n",
            "121/121 [==============================] - 0s 2ms/step\n",
            "121/121 [==============================] - 0s 3ms/step\n",
            "121/121 [==============================] - 0s 3ms/step\n",
            "121/121 [==============================] - 0s 3ms/step\n",
            "121/121 [==============================] - 0s 1ms/step\n",
            "121/121 [==============================] - 0s 2ms/step\n",
            "121/121 [==============================] - 0s 1ms/step\n",
            "121/121 [==============================] - 0s 1ms/step\n",
            "121/121 [==============================] - 0s 1ms/step\n",
            "121/121 [==============================] - 0s 1ms/step\n",
            "121/121 [==============================] - 0s 1ms/step\n",
            "121/121 [==============================] - 0s 1ms/step\n",
            "121/121 [==============================] - 0s 1ms/step\n",
            "121/121 [==============================] - 0s 1ms/step\n",
            "121/121 [==============================] - 0s 1ms/step\n",
            "121/121 [==============================] - 0s 1ms/step\n",
            "121/121 [==============================] - 0s 1ms/step\n",
            "121/121 [==============================] - 0s 2ms/step\n",
            "121/121 [==============================] - 0s 1ms/step\n",
            "121/121 [==============================] - 0s 1ms/step\n",
            "121/121 [==============================] - 0s 2ms/step\n",
            "121/121 [==============================] - 0s 1ms/step\n",
            "121/121 [==============================] - 0s 1ms/step\n",
            "121/121 [==============================] - 0s 1ms/step\n",
            "121/121 [==============================] - 0s 1ms/step\n",
            "121/121 [==============================] - 0s 2ms/step\n",
            "121/121 [==============================] - 0s 1ms/step\n",
            "121/121 [==============================] - 0s 1ms/step\n",
            "121/121 [==============================] - 0s 1ms/step\n",
            "121/121 [==============================] - 0s 1ms/step\n",
            "121/121 [==============================] - 0s 1ms/step\n",
            "121/121 [==============================] - 0s 1ms/step\n",
            "121/121 [==============================] - 0s 1ms/step\n",
            "121/121 [==============================] - 0s 2ms/step\n",
            "121/121 [==============================] - 0s 1ms/step\n",
            "121/121 [==============================] - 0s 3ms/step\n",
            "121/121 [==============================] - 0s 2ms/step\n",
            "121/121 [==============================] - 0s 2ms/step\n",
            "121/121 [==============================] - 0s 2ms/step\n",
            "121/121 [==============================] - 0s 1ms/step\n",
            "121/121 [==============================] - 0s 1ms/step\n",
            "121/121 [==============================] - 0s 1ms/step\n",
            "121/121 [==============================] - 0s 2ms/step\n",
            "121/121 [==============================] - 0s 1ms/step\n",
            "121/121 [==============================] - 0s 2ms/step\n",
            "121/121 [==============================] - 0s 2ms/step\n",
            "121/121 [==============================] - 0s 1ms/step\n",
            "121/121 [==============================] - 0s 1ms/step\n",
            "121/121 [==============================] - 0s 1ms/step\n",
            "121/121 [==============================] - 0s 1ms/step\n",
            "121/121 [==============================] - 0s 1ms/step\n",
            "121/121 [==============================] - 0s 2ms/step\n",
            "121/121 [==============================] - 0s 1ms/step\n",
            "121/121 [==============================] - 0s 1ms/step\n",
            "121/121 [==============================] - 0s 2ms/step\n",
            "121/121 [==============================] - 0s 1ms/step\n",
            "121/121 [==============================] - 0s 2ms/step\n",
            "121/121 [==============================] - 0s 1ms/step\n",
            "121/121 [==============================] - 0s 1ms/step\n",
            "121/121 [==============================] - 0s 1ms/step\n",
            "121/121 [==============================] - 0s 1ms/step\n",
            "121/121 [==============================] - 0s 1ms/step\n",
            "121/121 [==============================] - 0s 1ms/step\n",
            "AmbientTemp    : -23.410\n",
            "Month          : -14.603\n",
            "Pressure       : -14.358\n",
            "Altitude       : -13.734\n",
            "Latitude       : -12.966\n",
            "Time           : -11.972\n",
            "Location       : -10.370\n",
            "Hour           : -9.240\n",
            "Date           : -8.197\n",
            "Humidity       : -7.157\n",
            "Cloud.Ceiling  : -6.469\n",
            "YRMODAHRMI     : -5.909\n",
            "Longitude      : -3.971\n",
            "Season         : -2.703\n",
            "Wind.Speed     : -1.270\n",
            "Visibility     : 0.000\n"
          ]
        }
      ]
    },
    {
      "cell_type": "code",
      "source": [
        "import numpy as np\n",
        "import tensorflow as tf\n",
        "from tensorflow import keras\n",
        "from sklearn.metrics import mean_squared_error\n",
        "\n",
        "# Define the CNN model\n",
        "cnn_model = keras.models.Sequential([\n",
        "    keras.layers.Reshape(target_shape=(16, 1), input_shape=(16,)),\n",
        "    keras.layers.Conv1D(filters=16, kernel_size=3, activation='relu'),\n",
        "    keras.layers.Conv1D(filters=32, kernel_size=3, activation='relu'),\n",
        "    keras.layers.Flatten(),\n",
        "    keras.layers.Dense(units=32, activation='relu'),\n",
        "    keras.layers.Dense(units=1)\n",
        "])\n",
        "\n",
        "# Compile the model\n",
        "cnn_model.compile(loss='mean_squared_error', optimizer='adam')\n",
        "\n",
        "# Train the model\n",
        "cnn_model.fit(x=X_train.reshape((X_train.shape[0], X_train.shape[1], 1)), y=y_train, epochs=100, batch_size=32, validation_data=(X_test.reshape((X_test.shape[0], X_test.shape[1], 1)), y_test))\n",
        "\n",
        "# Evaluate the model\n",
        "y_pred = cnn_model.predict(X_test.reshape((X_test.shape[0], X_test.shape[1], 1)))\n",
        "mse = mean_squared_error(y_test, y_pred)\n",
        "print(\"MSE: \", mse)"
      ],
      "metadata": {
        "colab": {
          "base_uri": "https://localhost:8080/"
        },
        "id": "voHcId613wUQ",
        "outputId": "8da16b75-02fd-414a-c90c-0519b3102711"
      },
      "execution_count": null,
      "outputs": [
        {
          "output_type": "stream",
          "name": "stdout",
          "text": [
            "Epoch 1/100\n",
            "483/483 [==============================] - 4s 6ms/step - loss: 46.3524 - val_loss: 25.7265\n",
            "Epoch 2/100\n",
            "483/483 [==============================] - 1s 3ms/step - loss: 22.4777 - val_loss: 25.7042\n",
            "Epoch 3/100\n",
            "483/483 [==============================] - 2s 3ms/step - loss: 21.1477 - val_loss: 24.1705\n",
            "Epoch 4/100\n",
            "483/483 [==============================] - 2s 3ms/step - loss: 20.6952 - val_loss: 21.6271\n",
            "Epoch 5/100\n",
            "483/483 [==============================] - 3s 6ms/step - loss: 20.3342 - val_loss: 21.6230\n",
            "Epoch 6/100\n",
            "483/483 [==============================] - 2s 5ms/step - loss: 20.0237 - val_loss: 21.4281\n",
            "Epoch 7/100\n",
            "483/483 [==============================] - 1s 3ms/step - loss: 19.8210 - val_loss: 21.2715\n",
            "Epoch 8/100\n",
            "483/483 [==============================] - 2s 3ms/step - loss: 19.8992 - val_loss: 21.3669\n",
            "Epoch 9/100\n",
            "483/483 [==============================] - 2s 3ms/step - loss: 19.5915 - val_loss: 22.1154\n",
            "Epoch 10/100\n",
            "483/483 [==============================] - 1s 3ms/step - loss: 19.5073 - val_loss: 22.3040\n",
            "Epoch 11/100\n",
            "483/483 [==============================] - 1s 3ms/step - loss: 19.3682 - val_loss: 20.4740\n",
            "Epoch 12/100\n",
            "483/483 [==============================] - 1s 3ms/step - loss: 19.1341 - val_loss: 20.5242\n",
            "Epoch 13/100\n",
            "483/483 [==============================] - 2s 3ms/step - loss: 19.0671 - val_loss: 20.2375\n",
            "Epoch 14/100\n",
            "483/483 [==============================] - 2s 5ms/step - loss: 18.9377 - val_loss: 20.1483\n",
            "Epoch 15/100\n",
            "483/483 [==============================] - 1s 3ms/step - loss: 18.9342 - val_loss: 21.7198\n",
            "Epoch 16/100\n",
            "483/483 [==============================] - 1s 3ms/step - loss: 18.8264 - val_loss: 20.2333\n",
            "Epoch 17/100\n",
            "483/483 [==============================] - 2s 3ms/step - loss: 18.7577 - val_loss: 21.2149\n",
            "Epoch 18/100\n",
            "483/483 [==============================] - 2s 3ms/step - loss: 18.6458 - val_loss: 20.0565\n",
            "Epoch 19/100\n",
            "483/483 [==============================] - 2s 3ms/step - loss: 18.4561 - val_loss: 19.8583\n",
            "Epoch 20/100\n",
            "483/483 [==============================] - 1s 3ms/step - loss: 18.5617 - val_loss: 19.6627\n",
            "Epoch 21/100\n",
            "483/483 [==============================] - 2s 4ms/step - loss: 18.4237 - val_loss: 19.6554\n",
            "Epoch 22/100\n",
            "483/483 [==============================] - 2s 4ms/step - loss: 18.2499 - val_loss: 19.8074\n",
            "Epoch 23/100\n",
            "483/483 [==============================] - 2s 3ms/step - loss: 18.2604 - val_loss: 19.3805\n",
            "Epoch 24/100\n",
            "483/483 [==============================] - 2s 3ms/step - loss: 18.2952 - val_loss: 19.9208\n",
            "Epoch 25/100\n",
            "483/483 [==============================] - 1s 3ms/step - loss: 18.1981 - val_loss: 20.8244\n",
            "Epoch 26/100\n",
            "483/483 [==============================] - 1s 3ms/step - loss: 18.2364 - val_loss: 20.5756\n",
            "Epoch 27/100\n",
            "483/483 [==============================] - 2s 3ms/step - loss: 18.1392 - val_loss: 19.4198\n",
            "Epoch 28/100\n",
            "483/483 [==============================] - 1s 3ms/step - loss: 17.9662 - val_loss: 19.5245\n",
            "Epoch 29/100\n",
            "483/483 [==============================] - 2s 4ms/step - loss: 17.9616 - val_loss: 19.5237\n",
            "Epoch 30/100\n",
            "483/483 [==============================] - 2s 4ms/step - loss: 17.9934 - val_loss: 19.5294\n",
            "Epoch 31/100\n",
            "483/483 [==============================] - 1s 3ms/step - loss: 18.0668 - val_loss: 19.3181\n",
            "Epoch 32/100\n",
            "483/483 [==============================] - 1s 3ms/step - loss: 17.9337 - val_loss: 19.6355\n",
            "Epoch 33/100\n",
            "483/483 [==============================] - 1s 3ms/step - loss: 17.8015 - val_loss: 19.5187\n",
            "Epoch 34/100\n",
            "483/483 [==============================] - 2s 3ms/step - loss: 17.8059 - val_loss: 19.1553\n",
            "Epoch 35/100\n",
            "483/483 [==============================] - 1s 3ms/step - loss: 17.8388 - val_loss: 19.3276\n",
            "Epoch 36/100\n",
            "483/483 [==============================] - 2s 3ms/step - loss: 17.7796 - val_loss: 19.1699\n",
            "Epoch 37/100\n",
            "483/483 [==============================] - 2s 4ms/step - loss: 17.6843 - val_loss: 19.5511\n",
            "Epoch 38/100\n",
            "483/483 [==============================] - 2s 4ms/step - loss: 17.7091 - val_loss: 19.8725\n",
            "Epoch 39/100\n",
            "483/483 [==============================] - 1s 3ms/step - loss: 17.6373 - val_loss: 19.5888\n",
            "Epoch 40/100\n",
            "483/483 [==============================] - 2s 3ms/step - loss: 17.6958 - val_loss: 19.4820\n",
            "Epoch 41/100\n",
            "483/483 [==============================] - 2s 3ms/step - loss: 17.5874 - val_loss: 19.7396\n",
            "Epoch 42/100\n",
            "483/483 [==============================] - 2s 3ms/step - loss: 17.5754 - val_loss: 19.3861\n",
            "Epoch 43/100\n",
            "483/483 [==============================] - 2s 3ms/step - loss: 17.6041 - val_loss: 19.4698\n",
            "Epoch 44/100\n",
            "483/483 [==============================] - 2s 3ms/step - loss: 17.4594 - val_loss: 19.4995\n",
            "Epoch 45/100\n",
            "483/483 [==============================] - 2s 5ms/step - loss: 17.4530 - val_loss: 19.1835\n",
            "Epoch 46/100\n",
            "483/483 [==============================] - 2s 3ms/step - loss: 17.4967 - val_loss: 19.1002\n",
            "Epoch 47/100\n",
            "483/483 [==============================] - 2s 3ms/step - loss: 17.4603 - val_loss: 18.9799\n",
            "Epoch 48/100\n",
            "483/483 [==============================] - 1s 3ms/step - loss: 17.3804 - val_loss: 19.2319\n",
            "Epoch 49/100\n",
            "483/483 [==============================] - 2s 3ms/step - loss: 17.3316 - val_loss: 19.1383\n",
            "Epoch 50/100\n",
            "483/483 [==============================] - 2s 3ms/step - loss: 17.2931 - val_loss: 19.2871\n",
            "Epoch 51/100\n",
            "483/483 [==============================] - 2s 3ms/step - loss: 17.2720 - val_loss: 19.0607\n",
            "Epoch 52/100\n",
            "483/483 [==============================] - 2s 4ms/step - loss: 17.3256 - val_loss: 19.2252\n",
            "Epoch 53/100\n",
            "483/483 [==============================] - 2s 5ms/step - loss: 17.2876 - val_loss: 19.2707\n",
            "Epoch 54/100\n",
            "483/483 [==============================] - 1s 3ms/step - loss: 17.2249 - val_loss: 18.7670\n",
            "Epoch 55/100\n",
            "483/483 [==============================] - 2s 3ms/step - loss: 17.1810 - val_loss: 19.0260\n",
            "Epoch 56/100\n",
            "483/483 [==============================] - 2s 3ms/step - loss: 17.1202 - val_loss: 18.8752\n",
            "Epoch 57/100\n",
            "483/483 [==============================] - 2s 3ms/step - loss: 17.1023 - val_loss: 18.8682\n",
            "Epoch 58/100\n",
            "483/483 [==============================] - 1s 3ms/step - loss: 17.0586 - val_loss: 19.0358\n",
            "Epoch 59/100\n",
            "483/483 [==============================] - 1s 3ms/step - loss: 17.0759 - val_loss: 19.0511\n",
            "Epoch 60/100\n",
            "483/483 [==============================] - 2s 4ms/step - loss: 17.0977 - val_loss: 18.8024\n",
            "Epoch 61/100\n",
            "483/483 [==============================] - 2s 4ms/step - loss: 17.0002 - val_loss: 19.0716\n",
            "Epoch 62/100\n",
            "483/483 [==============================] - 1s 3ms/step - loss: 17.0446 - val_loss: 19.1954\n",
            "Epoch 63/100\n",
            "483/483 [==============================] - 2s 3ms/step - loss: 16.9895 - val_loss: 19.2124\n",
            "Epoch 64/100\n",
            "483/483 [==============================] - 1s 3ms/step - loss: 17.0182 - val_loss: 18.9396\n",
            "Epoch 65/100\n",
            "483/483 [==============================] - 1s 3ms/step - loss: 16.9509 - val_loss: 18.9976\n",
            "Epoch 66/100\n",
            "483/483 [==============================] - 2s 3ms/step - loss: 16.8288 - val_loss: 19.1485\n",
            "Epoch 67/100\n",
            "483/483 [==============================] - 2s 3ms/step - loss: 16.8834 - val_loss: 18.7838\n",
            "Epoch 68/100\n",
            "483/483 [==============================] - 2s 5ms/step - loss: 16.8055 - val_loss: 19.0323\n",
            "Epoch 69/100\n",
            "483/483 [==============================] - 2s 4ms/step - loss: 16.8217 - val_loss: 19.0951\n",
            "Epoch 70/100\n",
            "483/483 [==============================] - 1s 3ms/step - loss: 16.7746 - val_loss: 19.3308\n",
            "Epoch 71/100\n",
            "483/483 [==============================] - 1s 3ms/step - loss: 16.7396 - val_loss: 18.6547\n",
            "Epoch 72/100\n",
            "483/483 [==============================] - 1s 3ms/step - loss: 16.6990 - val_loss: 18.7464\n",
            "Epoch 73/100\n",
            "483/483 [==============================] - 2s 3ms/step - loss: 16.6820 - val_loss: 18.9495\n",
            "Epoch 74/100\n",
            "483/483 [==============================] - 2s 3ms/step - loss: 16.6845 - val_loss: 18.8044\n",
            "Epoch 75/100\n",
            "483/483 [==============================] - 1s 3ms/step - loss: 16.6219 - val_loss: 18.8923\n",
            "Epoch 76/100\n",
            "483/483 [==============================] - 2s 5ms/step - loss: 16.5741 - val_loss: 18.7948\n",
            "Epoch 77/100\n",
            "483/483 [==============================] - 2s 3ms/step - loss: 16.5819 - val_loss: 19.2065\n",
            "Epoch 78/100\n",
            "483/483 [==============================] - 2s 3ms/step - loss: 16.5496 - val_loss: 18.9250\n",
            "Epoch 79/100\n",
            "483/483 [==============================] - 2s 3ms/step - loss: 16.6009 - val_loss: 18.8036\n",
            "Epoch 80/100\n",
            "483/483 [==============================] - 1s 3ms/step - loss: 16.5112 - val_loss: 18.6266\n",
            "Epoch 81/100\n",
            "483/483 [==============================] - 2s 3ms/step - loss: 16.4921 - val_loss: 19.5825\n",
            "Epoch 82/100\n",
            "483/483 [==============================] - 2s 3ms/step - loss: 16.4414 - val_loss: 18.8290\n",
            "Epoch 83/100\n",
            "483/483 [==============================] - 2s 4ms/step - loss: 16.4566 - val_loss: 18.3133\n",
            "Epoch 84/100\n",
            "483/483 [==============================] - 2s 5ms/step - loss: 16.3613 - val_loss: 18.4817\n",
            "Epoch 85/100\n",
            "483/483 [==============================] - 2s 3ms/step - loss: 16.3758 - val_loss: 19.6578\n",
            "Epoch 86/100\n",
            "483/483 [==============================] - 2s 3ms/step - loss: 16.3879 - val_loss: 18.7962\n",
            "Epoch 87/100\n",
            "483/483 [==============================] - 2s 3ms/step - loss: 16.2373 - val_loss: 18.8225\n",
            "Epoch 88/100\n",
            "483/483 [==============================] - 1s 3ms/step - loss: 16.2541 - val_loss: 18.6002\n",
            "Epoch 89/100\n",
            "483/483 [==============================] - 1s 3ms/step - loss: 16.4194 - val_loss: 18.6258\n",
            "Epoch 90/100\n",
            "483/483 [==============================] - 1s 3ms/step - loss: 16.2034 - val_loss: 18.6867\n",
            "Epoch 91/100\n",
            "483/483 [==============================] - 2s 4ms/step - loss: 16.2258 - val_loss: 19.1298\n",
            "Epoch 92/100\n",
            "483/483 [==============================] - 2s 4ms/step - loss: 16.1609 - val_loss: 18.8795\n",
            "Epoch 93/100\n",
            "483/483 [==============================] - 2s 3ms/step - loss: 16.1793 - val_loss: 18.7046\n",
            "Epoch 94/100\n",
            "483/483 [==============================] - 1s 3ms/step - loss: 16.1080 - val_loss: 18.5054\n",
            "Epoch 95/100\n",
            "483/483 [==============================] - 2s 3ms/step - loss: 16.0956 - val_loss: 18.8157\n",
            "Epoch 96/100\n",
            "483/483 [==============================] - 2s 3ms/step - loss: 16.0383 - val_loss: 18.8626\n",
            "Epoch 97/100\n",
            "483/483 [==============================] - 2s 3ms/step - loss: 16.0088 - val_loss: 18.5223\n",
            "Epoch 98/100\n",
            "483/483 [==============================] - 2s 3ms/step - loss: 16.0221 - val_loss: 18.5170\n",
            "Epoch 99/100\n",
            "483/483 [==============================] - 2s 5ms/step - loss: 15.9342 - val_loss: 18.5918\n",
            "Epoch 100/100\n",
            "483/483 [==============================] - 1s 3ms/step - loss: 16.1048 - val_loss: 18.7278\n",
            "121/121 [==============================] - 0s 2ms/step\n",
            "MSE:  18.72776783258988\n"
          ]
        }
      ]
    },
    {
      "cell_type": "code",
      "source": [
        "# Overview of bothe the modles to find out the better one\n",
        "ffnn_predictions = ffnn_model.predict(X_test)\n",
        "cnn_predictions = cnn_model.predict(X_test)\n",
        "\n",
        "# Print the performance and predictions of the models\n",
        "ffnn_score = ffnn_model.evaluate(X_test, y_test)\n",
        "cnn_score = cnn_model.evaluate(X_test, y_test)\n",
        "print(\"Feedforward neural network score:\", ffnn_score)\n",
        "print(\"CNN score:\", cnn_score)\n",
        "print(\"Feedforward neural network predictions:\", ffnn_predictions)\n",
        "print(\"CNN predictions:\", cnn_predictions)"
      ],
      "metadata": {
        "colab": {
          "base_uri": "https://localhost:8080/"
        },
        "id": "iCmQxv6Q7zIz",
        "outputId": "71f31db2-90c8-423a-aabc-000087f3fd5d"
      },
      "execution_count": null,
      "outputs": [
        {
          "output_type": "stream",
          "name": "stdout",
          "text": [
            "121/121 [==============================] - 0s 1ms/step\n",
            "121/121 [==============================] - 0s 2ms/step\n",
            "121/121 [==============================] - 0s 2ms/step - loss: 18.5292\n",
            "121/121 [==============================] - 1s 3ms/step - loss: 18.7278\n",
            "Feedforward neural network score: 18.529211044311523\n",
            "CNN score: 18.727767944335938\n",
            "Feedforward neural network predictions: [[ 6.0948  ]\n",
            " [12.690771]\n",
            " [17.179424]\n",
            " ...\n",
            " [23.506401]\n",
            " [18.698141]\n",
            " [14.839539]]\n",
            "CNN predictions: [[ 6.345129]\n",
            " [13.340596]\n",
            " [18.277735]\n",
            " ...\n",
            " [26.349047]\n",
            " [18.993439]\n",
            " [11.851466]]\n"
          ]
        }
      ]
    },
    {
      "cell_type": "markdown",
      "source": [
        "Note :\n",
        "\n",
        "---\n",
        "\n",
        "\n",
        "Lesser the loss or error rate, more effective the model is. In our case FFNN model has lesser error rate most of the times. This means, FFNN model gives more accurate results with less loss. Using these results for feature importance from the FFNN model, we create the following graph to understand the results much better and visualize the factors or variables that are affecting the performance of our Solar Power i.e our output Polypwr."
      ],
      "metadata": {
        "id": "SoaCxKOndxKU"
      }
    },
    {
      "cell_type": "code",
      "source": [
        "#Using the result vriable of feature importance from the FFNN model, we create the following graph to understand the results much better.\n",
        "# Create a bar plot of feature importance\n",
        "fig, ax = plt.subplots()\n",
        "ax.barh(range(len(sorted_idx)), importance[sorted_idx])\n",
        "ax.set_yticks(range(len(sorted_idx)))\n",
        "ax.set_yticklabels(X.columns[sorted_idx])\n",
        "ax.set_xlabel('Importance')\n",
        "ax.set_title('Feature Importance')\n",
        "\n",
        "plt.show()"
      ],
      "metadata": {
        "colab": {
          "base_uri": "https://localhost:8080/",
          "height": 295
        },
        "id": "VbskGC9dQKwD",
        "outputId": "2cc3e5e5-9d8d-4cff-9ada-7ab5f6758b31"
      },
      "execution_count": null,
      "outputs": [
        {
          "output_type": "display_data",
          "data": {
            "text/plain": [
              "<Figure size 432x288 with 1 Axes>"
            ],
            "image/png": "[encoded data removed]"
          },
          "metadata": {
            "needs_background": "light"
          }
        }
      ]
    }
  ]
}